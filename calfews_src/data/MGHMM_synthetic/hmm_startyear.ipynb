{
 "cells": [
  {
   "cell_type": "code",
   "execution_count": 1,
   "metadata": {},
   "outputs": [],
   "source": [
    "import calendar\n",
    "import numpy as np\n",
    "import pandas as pd\n",
    "import h5py\n",
    "import json\n",
    "from itertools import compress\n",
    "import gc\n",
    "import sys\n",
    "from hmmlearn import hmm\n",
    "from random import random\n"
   ]
  },
  {
   "cell_type": "code",
   "execution_count": 12,
   "metadata": {},
   "outputs": [
    {
     "name": "stdout",
     "output_type": "stream",
     "text": [
      "[[0.7826125  0.2173875 ]\n",
      " [0.80750169 0.19249831]]\n"
     ]
    },
    {
     "name": "stderr",
     "output_type": "stream",
     "text": [
      "c:\\Users\\danli\\.conda\\envs\\.venv_conda_calfews\\lib\\site-packages\\sklearn\\cluster\\_kmeans.py:1037: UserWarning: KMeans is known to have a memory leak on Windows with MKL, when there are less chunks than available threads. You can avoid it by setting the environment variable OMP_NUM_THREADS=1.\n",
      "  \"KMeans is known to have a memory leak on Windows \"\n",
      "c:\\Users\\danli\\.conda\\envs\\.venv_conda_calfews\\lib\\site-packages\\sklearn\\cluster\\_kmeans.py:1037: UserWarning: KMeans is known to have a memory leak on Windows with MKL, when there are less chunks than available threads. You can avoid it by setting the environment variable OMP_NUM_THREADS=1.\n",
      "  \"KMeans is known to have a memory leak on Windows \"\n"
     ]
    }
   ],
   "source": [
    "# rng = np.random.default_rng(uncertainty_dict['synth_gen_seed'])\n",
    "np.random.seed(42)\n",
    "nSites = 15\n",
    "mghmm_folder = 'calfews_mhmm_5112022/'\n",
    "\n",
    "AnnualQ = pd.read_csv(mghmm_folder + \"historical_annual_streamflow_all_locations.csv\")\n",
    "logAnnualQ = np.log(AnnualQ)\n",
    "hmm_model = hmm.GMMHMM(n_components=2, n_iter=1000, covariance_type='full').fit(logAnnualQ)\n",
    "\n",
    "mus = np.array(hmm_model.means_)\n",
    "weights = np.array(hmm_model.weights_)\n",
    "P = np.array(hmm_model.transmat_)\n",
    "# print('mus', mus, 'weights', weights, 'P', P)\n",
    "print(P)"
   ]
  },
  {
   "cell_type": "code",
   "execution_count": 23,
   "metadata": {},
   "outputs": [
    {
     "name": "stdout",
     "output_type": "stream",
     "text": [
      "0\n"
     ]
    }
   ],
   "source": [
    "start_year = 1996\n",
    "historical_data = pd.read_csv(mghmm_folder + \"historical_annual_streamflow_all_locations.csv\")\n",
    "historical_data['Year'] = 1906 + historical_data.index\n",
    "historical_years = historical_data['Year']\n",
    "historical_streamflows = historical_data.drop('Year', axis=1)\n",
    "\n",
    "log_historical_streamflows = np.log(historical_streamflows)\n",
    "historical_states = hmm_model.predict(log_historical_streamflows)\n",
    "\n",
    "# Determine the state for the desired starting year (e.g., 1996)\n",
    "start_state = historical_states[historical_years == start_year][0]\n",
    "print(start_state)"
   ]
  },
  {
   "cell_type": "code",
   "execution_count": 28,
   "metadata": {},
   "outputs": [
    {
     "name": "stdout",
     "output_type": "stream",
     "text": [
      "JSON data has been written to base_inflows_synthetic.json\n"
     ]
    }
   ],
   "source": [
    "import json\n",
    "\n",
    "# Initialize the JSON structure\n",
    "data = {\n",
    "    \"flow_input_type\": [\n",
    "        \"observations\", \n",
    "        \"synthetic\"\n",
    "    ],\n",
    "    \n",
    "    \"flow_input_source\": {\n",
    "        \"observations\": {\n",
    "            \"CDEC\": \"calfews_src/data/input/calfews_src-data-sim.csv\", \n",
    "            \"CDEC_wet_dry\": \"calfews_src/data/input/calfews_src-data-wet-dry.csv\",\n",
    "            \"CDEC_short\": \"calfews_src/data/input/calfews_src-data.csv\",\n",
    "            \"CDEC_1995_2023\": \"calfews_src/data/input/cord-sim_realtime.csv\",\n",
    "            \"CDEC_1996_2024\": \"calfews_src/data/input/calfews_src-data_1.csv\"\n",
    "        },\n",
    "        \"synthetic\": {}\n",
    "    },\n",
    "    \n",
    "    \"export_series\": {\n",
    "        \"observations\": {\n",
    "            \"CDEC\": \"calfews_src-data-CDEC_19052016\",\n",
    "            \"CDEC_wet_dry\": \"calfews_src-data-CDEC_wet_dry\",\n",
    "            \"CDEC_short\": \"calfews_src-data-CDEC_19052016.csv\",\n",
    "            \"CDEC_1995_2023\": \"calfews_src-data-CDEC_1005_2023\",\n",
    "            \"CDEC_1996_2024\": \"calfews_src-data-CDEC_1996_2024\"\n",
    "        },\n",
    "        \"synthetic\": {}\n",
    "    },\n",
    "    \n",
    "    \"simulation_period_start\": {\n",
    "        \"observations\":{\n",
    "            \"CDEC\": 1905, \n",
    "            \"CDEC_wet_dry\": 1996,\n",
    "            \"CDEC_short\": 1996,\n",
    "            \"CDEC_1995_2023\":1995,\n",
    "            \"CDEC_1996_2024\":1996\n",
    "            },\n",
    "        \"synthetic\": {}\n",
    "    },\n",
    "\n",
    "    \"simulation_period_end\":{\n",
    "        \"observations\":{\n",
    "        \"CDEC\": 2016,\n",
    "        \"CDEC_wet_dry\": 1998,\n",
    "        \"CDEC_short\": 2024,\n",
    "        \"CDEC_1995_2023\":2023,\n",
    "        \"CDEC_1996_2024\":2024 \n",
    "        },\n",
    "        \"synthetic\": {}\n",
    "    },\n",
    "    \"file_start\":{\n",
    "        \"observations\":{\n",
    "        \"CDEC\": \"10/1/1905\",\n",
    "        \"CDEC_wet_dry\": \"10/1/1996\",\n",
    "        \"CDEC_short\": \"10/1/1996\",\n",
    "        \"CDEC_1995_2023\":\"10/1/1995\",\n",
    "        \"CDEC_1996_2024\":\"10/1/1996\"\n",
    "        },\n",
    "        \"synthetic\": {}\n",
    "    },\n",
    "    \"file_end\":{\n",
    "    \"observations\":{\n",
    "      \"CDEC\": \"9/30/2016\",\n",
    "      \"CDEC_wet_dry\": \"9/30/1998\",\n",
    "      \"CDEC_short\": \"9/30/2024\",\n",
    "      \"CDEC_1995_2023\":\"9/30/2023\",\n",
    "      \"CDEC_1996_2024\":\"9/30/2024\"\n",
    "      },\n",
    "         \"synthetic\": {}\n",
    "    },\n",
    "      \"has_full_inputs\":{\n",
    "    \"observations\":{\n",
    "      \"CDEC\": False,\n",
    "      \"CDEC_wet_dry\": False,\n",
    "      \"CDEC_short\": True,\n",
    "      \"CDEC_1995_2023\": True,\n",
    "      \"CDEC_1996_2024\": True\n",
    "      },\n",
    "        \"synthetic\": {}\n",
    "    },\n",
    "     \"has_leap\":{\n",
    "    \"observations\":{\n",
    "      \"CDEC\":True,\n",
    "      \"CDEC_wet_dry\": True,\n",
    "      \"CDEC_short\": True,\n",
    "      \"CDEC_1995_2023\":True,\n",
    "      \"CDEC_1996_2024\":True\n",
    "      },\n",
    "                    \"synthetic\": {}\n",
    "    },\n",
    "      \"inflow_unit\":{\n",
    "    \"observations\":{\n",
    "      \"CDEC\": \"af\",\n",
    "      \"CDEC_wet_dry\": \"af\",\n",
    "      \"CDEC_short\": \"af\",\n",
    "      \"CDEC_1995_2023\":\"af\",\n",
    "      \"CDEC_1996_2024\":\"af\"\n",
    "      },\n",
    "    \"synthetic\": {}\n",
    "    },\n",
    "}\n",
    "\n",
    "# Adding synthetic data for years 1996 to 2024 and samples from 1 to 100\n",
    "for year in range(1996, 2025):\n",
    "    for sample in range(1, 101):\n",
    "        # Adding entries for 'synthetic' and 'export_series' with year and sample\n",
    "        year_sample_key = f\"{year}_{sample}\"\n",
    "        data[\"flow_input_source\"][\"synthetic\"][year_sample_key] = f\"calfews_src/data/MGHMM_synthetic/start_year/DailyQ_s_{year}_{sample-1}.csv\"\n",
    "        data[\"export_series\"][\"synthetic\"][year_sample_key] = f\"calfews_src-data-synth_{year}_{sample}\"\n",
    "        data[\"simulation_period_start\"][\"synthetic\"][year_sample_key] = 2024\n",
    "        data[\"simulation_period_end\"][\"synthetic\"][year_sample_key] = 2027\n",
    "        data[\"file_start\"][\"synthetic\"][year_sample_key] = \"10/1/2024\"\n",
    "        data[\"file_end\"][\"synthetic\"][year_sample_key] = \"9/30/2027\"\n",
    "        data[\"has_full_inputs\"][\"synthetic\"][year_sample_key] = False\n",
    "        data[\"has_leap\"][\"synthetic\"][year_sample_key] = True\n",
    "        data[\"inflow_unit\"][\"synthetic\"][year_sample_key] = \"af\"\n",
    "\n",
    "\n",
    "\n",
    "# Write the data to a JSON file\n",
    "json_filename = \"base_inflows_synthetic.json\"\n",
    "with open(json_filename, 'w') as json_file:\n",
    "    json.dump(data, json_file, indent=4)\n",
    "\n",
    "print(f\"JSON data has been written to {json_filename}\")\n"
   ]
  }
 ],
 "metadata": {
  "kernelspec": {
   "display_name": ".venv_conda_calfews",
   "language": "python",
   "name": "python3"
  },
  "language_info": {
   "codemirror_mode": {
    "name": "ipython",
    "version": 3
   },
   "file_extension": ".py",
   "mimetype": "text/x-python",
   "name": "python",
   "nbconvert_exporter": "python",
   "pygments_lexer": "ipython3",
   "version": "3.7.1"
  }
 },
 "nbformat": 4,
 "nbformat_minor": 2
}
